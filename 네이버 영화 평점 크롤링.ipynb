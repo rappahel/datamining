{
 "cells": [
  {
   "cell_type": "code",
   "execution_count": 1,
   "metadata": {},
   "outputs": [],
   "source": [
    "import requests\n",
    "from bs4 import BeautifulSoup"
   ]
  },
  {
   "cell_type": "code",
   "execution_count": 2,
   "metadata": {},
   "outputs": [],
   "source": [
    "url = 'https://movie.naver.com/movie/sdb/rank/rmovie.nhn'"
   ]
  },
  {
   "cell_type": "code",
   "execution_count": 3,
   "metadata": {
    "scrolled": false
   },
   "outputs": [
    {
     "name": "stdout",
     "output_type": "stream",
     "text": [
      "영화의 장르를 선택하세요 : 3\n",
      "쪽수를 선택하세요12\n",
      "에러\n",
      "쪽수를 선택하세요1\n"
     ]
    }
   ],
   "source": [
    "i=int(input('영화의 장르를 선택하세요 : '))\n",
    "params = {'sel' : 'pnt', \n",
    "         'date' : '20200728',\n",
    "         'tg' : i\n",
    "         }\n",
    "resp = requests.get(url, params)\n",
    "bs = BeautifulSoup(resp.text, 'lxml')\n",
    "num=1\n",
    "while True:\n",
    "    params = {'sel' : 'pnt', \n",
    "         'date' : '20200728',\n",
    "         'tg' : i,\n",
    "         'page': num\n",
    "             }\n",
    "    num+=1\n",
    "    resp = requests.get(url, params)\n",
    "    bs = BeautifulSoup(resp.text, 'lxml')\n",
    "    if len(bs.find_all('td', class_='next'))==0:\n",
    "        last=num-1\n",
    "        break \n",
    "        \n",
    "while True:\n",
    "    num=int(input('쪽수를 선택하세요'))\n",
    "    params = {'sel' : 'pnt', \n",
    "         'date' : '20200728',\n",
    "         'tg' : i,\n",
    "         'page': num\n",
    "             }\n",
    "    if last>=num:\n",
    "        resp = requests.get(url, params)\n",
    "        bs = BeautifulSoup(resp.text, 'lxml')\n",
    "        break\n",
    "    else:\n",
    "        print('에러')"
   ]
  },
  {
   "cell_type": "code",
   "execution_count": 4,
   "metadata": {},
   "outputs": [],
   "source": [
    "lst= bs.find_all('div', class_ = 'tit5')"
   ]
  },
  {
   "cell_type": "code",
   "execution_count": 5,
   "metadata": {},
   "outputs": [
    {
     "name": "stdout",
     "output_type": "stream",
     "text": [
      "[['늑대와 춤을', '9.26'], ['석양에 돌아오다', '9.23'], ['내일을 향해 쏴라', '9.12'], ['용서받지 못한 자', '9.07'], ['헤이트풀8', '8.45'], ['밴디다스', '6.93']]\n"
     ]
    }
   ],
   "source": [
    "list_1 = []\n",
    "n = 0\n",
    "if num==1:\n",
    "    while n < len(lst):\n",
    "        list_2 = []\n",
    "        for i in lst[n].parent.parent.get_text().strip().split(\"\\n\"):\n",
    "            if i != \"\":\n",
    "                list_2.append(i)\n",
    "        list_2.pop()\n",
    "        list_2.pop() \n",
    "        list_1.append(list_2)\n",
    "        n = n + 1\n",
    "    print(list_1)\n",
    "else:\n",
    "    while n < len(lst) :\n",
    "        list_2 = []\n",
    "        for i in lst[n].parent.parent.get_text().strip().split(\"\\n\"):\n",
    "            if i != \"\":\n",
    "                list_2.append(i)\n",
    "        list_2.pop()\n",
    "        list_2.pop()\n",
    "        list_2.pop(0)\n",
    "        list_1.append(list_2)\n",
    "        n = n + 1\n",
    "    print(list_1)"
   ]
  },
  {
   "cell_type": "code",
   "execution_count": null,
   "metadata": {},
   "outputs": [],
   "source": []
  }
 ],
 "metadata": {
  "kernelspec": {
   "display_name": "Python 3",
   "language": "python",
   "name": "python3"
  },
  "language_info": {
   "codemirror_mode": {
    "name": "ipython",
    "version": 3
   },
   "file_extension": ".py",
   "mimetype": "text/x-python",
   "name": "python",
   "nbconvert_exporter": "python",
   "pygments_lexer": "ipython3",
   "version": "3.7.6"
  }
 },
 "nbformat": 4,
 "nbformat_minor": 4
}
